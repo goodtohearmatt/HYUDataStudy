{
 "cells": [
  {
   "cell_type": "markdown",
   "metadata": {},
   "source": [
    "## 맛집추천 선택지 중 랜덤하게 뽑아보는 프로그램을 작성"
   ]
  },
  {
   "cell_type": "markdown",
   "metadata": {},
   "source": [
    "망고플레이트 : https://www.mangoplate.com/"
   ]
  },
  {
   "cell_type": "code",
   "execution_count": 1,
   "metadata": {
    "collapsed": true
   },
   "outputs": [],
   "source": [
    "import sys\n",
    "import time\n",
    "from selenium import webdriver\n",
    "from selenium.common import exceptions"
   ]
  },
  {
   "cell_type": "markdown",
   "metadata": {},
   "source": [
    "# 데이터 수집을 위한 망고플레이트 크롤링"
   ]
  },
  {
   "cell_type": "markdown",
   "metadata": {},
   "source": [
    "#### 브라우저 객체 생성 "
   ]
  },
  {
   "cell_type": "code",
   "execution_count": 2,
   "metadata": {
    "collapsed": true
   },
   "outputs": [],
   "source": [
    "driver = webdriver.Chrome()"
   ]
  },
  {
   "cell_type": "markdown",
   "metadata": {},
   "source": [
    "#### 망고플레이트 사이트 접속"
   ]
  },
  {
   "cell_type": "code",
   "execution_count": 5,
   "metadata": {
    "collapsed": true
   },
   "outputs": [],
   "source": [
    "driver.get(\"https://www.mangoplate.com/\")"
   ]
  },
  {
   "cell_type": "markdown",
   "metadata": {},
   "source": [
    "#### 망고플레이트 검색창 엘리먼트 탐색 및 검색어 입력"
   ]
  },
  {
   "cell_type": "code",
   "execution_count": null,
   "metadata": {
    "collapsed": true
   },
   "outputs": [],
   "source": [
    "search_element = driver.find_element_by_css_selector('#main-search')\n",
    "search_element.clear()\n",
    "search_element.send_keys('한대앞역')\n",
    "\n",
    "search_button = driver.find_element_by_css_selector(\".btn-search\")\n",
    "search_button.click()"
   ]
  },
  {
   "cell_type": "markdown",
   "metadata": {},
   "source": [
    "# 식당 상호명 리스트 생성"
   ]
  },
  {
   "cell_type": "markdown",
   "metadata": {},
   "source": [
    "#### 1페이지 정보 가져오기"
   ]
  },
  {
   "cell_type": "code",
   "execution_count": null,
   "metadata": {
    "collapsed": true
   },
   "outputs": [],
   "source": [
    "restaurant_list = driver.find_element_by_css_selector('ul.list-restaurants')\n",
    "restaurant_info = restaurant_list.find_elements_by_css_selector('figure.restaurant-item')"
   ]
  },
  {
   "cell_type": "code",
   "execution_count": null,
   "metadata": {
    "collapsed": true
   },
   "outputs": [],
   "source": [
    "total_restaurant_info_list = []\n",
    "for i in restaurant_info[:10]:\n",
    "    try:\n",
    "        name, address = i.find_element_by_css_selector('.thumb img').get_attribute('alt').split('사진 -')\n",
    "        total_restaurant_info_list.append(name.strip())\n",
    "    except(exceptions.NoSuchElementException):\n",
    "        break"
   ]
  },
  {
   "cell_type": "code",
   "execution_count": null,
   "metadata": {
    "collapsed": true
   },
   "outputs": [],
   "source": [
    "total_restaurant_info_list"
   ]
  },
  {
   "cell_type": "markdown",
   "metadata": {},
   "source": [
    "#### 2페이지부터 정보 가져오기"
   ]
  },
  {
   "cell_type": "code",
   "execution_count": null,
   "metadata": {
    "collapsed": true
   },
   "outputs": [],
   "source": [
    "# 수정 17.10.10 - 예외처리 \n",
    "try:\n",
    "    page_nums = driver.find_element_by_css_selector('.paging').find_elements_by_css_selector('.ng-binding.ng-scope')[1:]\n",
    "\n",
    "    cnt = 0\n",
    "    for p in page_nums:\n",
    "        cnt += 1\n",
    "        sys.stdout.write('\\r%d / %d' % (cnt, len(page_nums)))\n",
    "        driver.execute_script(\"window.scrollTo(0, document.body.scrollHeight);\")\n",
    "        p.click()\n",
    "        time.sleep(5)\n",
    "        restaurant_list = driver.find_element_by_css_selector('ul.list-restaurants')\n",
    "        restaurant_info = restaurant_list.find_elements_by_css_selector('figure.restaurant-item')\n",
    "        for i in restaurant_info[:10]:\n",
    "            name, address = i.find_element_by_css_selector('.thumb img').get_attribute('alt').split('사진 -')\n",
    "            total_restaurant_info_list.append(name.strip())\n",
    "\n",
    "except(exceptions.ElementNotVisibleException) as e:\n",
    "    pass\n",
    "\n",
    "print('END!')"
   ]
  },
  {
   "cell_type": "markdown",
   "metadata": {},
   "source": [
    "#### 한대앞역 망고플레이트 맛집 상호명 리스트"
   ]
  },
  {
   "cell_type": "code",
   "execution_count": null,
   "metadata": {
    "collapsed": true
   },
   "outputs": [],
   "source": [
    "total_restaurant_info_list"
   ]
  },
  {
   "cell_type": "markdown",
   "metadata": {},
   "source": [
    "# 식당 랜덤하게 뽑기"
   ]
  },
  {
   "cell_type": "code",
   "execution_count": null,
   "metadata": {
    "collapsed": true
   },
   "outputs": [],
   "source": [
    "import random\n",
    "random.choice(total_restaurant_info_list)"
   ]
  }
 ],
 "metadata": {
  "anaconda-cloud": {},
  "kernelspec": {
   "display_name": "Python 3",
   "language": "python",
   "name": "python3"
  },
  "language_info": {
   "codemirror_mode": {
    "name": "ipython",
    "version": 3
   },
   "file_extension": ".py",
   "mimetype": "text/x-python",
   "name": "python",
   "nbconvert_exporter": "python",
   "pygments_lexer": "ipython3",
   "version": "3.6.1"
  }
 },
 "nbformat": 4,
 "nbformat_minor": 1
}
