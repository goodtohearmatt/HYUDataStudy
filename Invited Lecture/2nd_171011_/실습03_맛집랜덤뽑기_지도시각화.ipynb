{
 "cells": [
  {
   "cell_type": "markdown",
   "metadata": {},
   "source": [
    "## 실습02번에서 랜덤하게 뽑은 맛집을 지도에 시각화해봅시다"
   ]
  },
  {
   "cell_type": "markdown",
   "metadata": {},
   "source": [
    "#### 지도에 시각화하려면 어떤 정보가 필요할까요?\n",
    "\n",
    "저희가 평소 이용하는 네이버 지도, 구글맵 등은 지역포인트를 위/경도로 표시합니다.\n",
    "\n",
    "저희도 이처럼 데이터를 위/경도로 변환하는 여러 방법을 알아보도록 합시다."
   ]
  },
  {
   "cell_type": "code",
   "execution_count": null,
   "metadata": {
    "collapsed": true
   },
   "outputs": [],
   "source": [
    "import sys\n",
    "import time\n",
    "from selenium import webdriver\n",
    "from selenium.common import exceptions"
   ]
  },
  {
   "cell_type": "markdown",
   "metadata": {},
   "source": [
    "# 데이터 수집을 위한 망고플레이트 크롤링"
   ]
  },
  {
   "cell_type": "markdown",
   "metadata": {},
   "source": [
    "#### 브라우저 객체 생성 "
   ]
  },
  {
   "cell_type": "code",
   "execution_count": null,
   "metadata": {
    "collapsed": true
   },
   "outputs": [],
   "source": [
    "driver = webdriver.Chrome()\n",
    "driver.get(\"https://www.mangoplate.com/\")"
   ]
  },
  {
   "cell_type": "markdown",
   "metadata": {},
   "source": [
    "#### 망고플레이트 검색창 엘리먼트 탐색 및 검색어 입력"
   ]
  },
  {
   "cell_type": "code",
   "execution_count": null,
   "metadata": {
    "collapsed": true
   },
   "outputs": [],
   "source": [
    "search_element = driver.find_element_by_css_selector('#main-search')\n",
    "search_element.clear()\n",
    "search_element.send_keys('한대앞역')\n",
    "\n",
    "search_button = driver.find_element_by_css_selector(\".btn-search\")\n",
    "search_button.click()"
   ]
  },
  {
   "cell_type": "markdown",
   "metadata": {},
   "source": [
    "# 식당 상호명 리스트 생성"
   ]
  },
  {
   "cell_type": "code",
   "execution_count": null,
   "metadata": {},
   "outputs": [],
   "source": [
    "restaurant_list = driver.find_element_by_css_selector('ul.list-restaurants')\n",
    "restaurant_info = restaurant_list.find_elements_by_css_selector('figure.restaurant-item')\n",
    "\n",
    "total_restaurant_info_list = []\n",
    "for i in restaurant_info[:10]:\n",
    "    try:\n",
    "        name, address = i.find_element_by_css_selector('.thumb img').get_attribute('alt').split('사진 -')\n",
    "        total_restaurant_info_list.append((name.strip(), address.strip()))\n",
    "    except(exceptions.NoSuchElementException):\n",
    "        break\n",
    "\n",
    "# 오류수정 17.10.10\n",
    "# 한대앞역 으로 검색했을때는 여러 페이지 등장 했으나, 다른 검색어 '안산 한양대' 의 경우에는\n",
    "#  1페이지 밖에 없어서 .paging 엘리먼트들이 없어서 ElementNotVisibleException 발생.\n",
    "# 만약, 이 오류라면 pass 하는 것으로 로직변경\n",
    "try:\n",
    "    page_nums = driver.find_element_by_css_selector('.paging').find_elements_by_css_selector('.ng-binding.ng-scope')[1:]\n",
    "\n",
    "    cnt = 0\n",
    "    for p in page_nums:\n",
    "        cnt += 1\n",
    "        sys.stdout.write('\\r%d / %d' % (cnt, len(page_nums)))\n",
    "        driver.execute_script(\"window.scrollTo(0, document.body.scrollHeight);\")\n",
    "        p.click()\n",
    "        time.sleep(5)\n",
    "        restaurant_list = driver.find_element_by_css_selector('ul.list-restaurants')\n",
    "        restaurant_info = restaurant_list.find_elements_by_css_selector('figure.restaurant-item')\n",
    "        for i in restaurant_info[:10]:\n",
    "            name, address = i.find_element_by_css_selector('.thumb img').get_attribute('alt').split('사진 -')\n",
    "            total_restaurant_info_list.append((name.strip(), address.strip()))\n",
    "except(exceptions.ElementNotVisibleException) as e:\n",
    "    pass\n",
    "\n",
    "print('END!')"
   ]
  },
  {
   "cell_type": "markdown",
   "metadata": {},
   "source": [
    "#### 한대앞역 망고플레이트 맛집 상호명과 주소"
   ]
  },
  {
   "cell_type": "code",
   "execution_count": null,
   "metadata": {},
   "outputs": [],
   "source": [
    "total_restaurant_info_list[:3]"
   ]
  },
  {
   "cell_type": "markdown",
   "metadata": {},
   "source": [
    "#### Pandas 로 csv파일로 만듭시다"
   ]
  },
  {
   "cell_type": "code",
   "execution_count": null,
   "metadata": {
    "collapsed": true
   },
   "outputs": [],
   "source": [
    "import pandas as pd"
   ]
  },
  {
   "cell_type": "code",
   "execution_count": null,
   "metadata": {
    "collapsed": true
   },
   "outputs": [],
   "source": [
    "restaurant_df = pd.DataFrame(total_restaurant_info_list, columns=['name', 'address'])"
   ]
  },
  {
   "cell_type": "code",
   "execution_count": null,
   "metadata": {
    "collapsed": true
   },
   "outputs": [],
   "source": [
    "restaurant_df.to_csv('./한대앞_망고플레이트_맛집목록.csv', index=False, encoding='utf8')"
   ]
  },
  {
   "cell_type": "code",
   "execution_count": null,
   "metadata": {},
   "outputs": [],
   "source": [
    "restaurant_df"
   ]
  },
  {
   "cell_type": "markdown",
   "metadata": {},
   "source": [
    "#### 1. Geocode by Awesome Table 사용\n",
    "\n",
    "특강 시, 진행예정"
   ]
  },
  {
   "cell_type": "code",
   "execution_count": null,
   "metadata": {
    "collapsed": true
   },
   "outputs": [],
   "source": [
    "# 특강에서 설명할 적용방법을 진행 후, 아래의 코드 주석을 해제해주세요.\n",
    "\n",
    "# restaurant_df = pd.read_csv('./restraunt_list.csv')\n",
    "# restaurant_df.head(5)\n",
    "# restaurant_df.columns = ['name', 'address', 'latitude', 'longitude']"
   ]
  },
  {
   "cell_type": "markdown",
   "metadata": {},
   "source": [
    "#### 2. google geocode API를 사용"
   ]
  },
  {
   "cell_type": "code",
   "execution_count": null,
   "metadata": {
    "collapsed": true
   },
   "outputs": [],
   "source": [
    "import requests\n",
    "import json\n",
    "\n",
    "def get_latitude_longitude(addr):\n",
    "    '''\n",
    "    DESCRIPTION: 주소를 입력하면 위도(latitude)/경도(longitude)를 반환하는 함수 \n",
    "    ex) get_latitude_longitude('경기도 안산시 상록구 한양대학로 55')\n",
    "    '''\n",
    "    location = addr\n",
    "    response = requests.get('http://maps.googleapis.com/maps/api/geocode/json?sensor=false&language=ko&address=' + location)    \n",
    "    loc_dict = json.loads(response.text)\n",
    "    latitude = loc_dict['results'][0]['geometry']['location']['lat'] \n",
    "    longitude = loc_dict['results'][0]['geometry']['location']['lng']\n",
    "    return [latitude, longitude]"
   ]
  },
  {
   "cell_type": "code",
   "execution_count": null,
   "metadata": {
    "collapsed": true
   },
   "outputs": [],
   "source": [
    "latitude_list = []\n",
    "longitude_list = []\n",
    "for i in restaurant_df['address'].values:\n",
    "    lat, lon = get_latitude_longitude(i)\n",
    "    latitude_list.append(lat)\n",
    "    longitude_list.append(lon)\n",
    "\n",
    "restaurant_df['latitude'] = latitude_list\n",
    "restaurant_df['longitude'] = longitude_list\n",
    "\n",
    "# 수정 17.10.10 - API이용 버전 위/경도 반영 DataFrame 저장\n",
    "restaurant_df.to_csv('./한대앞_망고플레이트_맛집목록_위경도.csv', index=False, encoding='utf8')"
   ]
  },
  {
   "cell_type": "code",
   "execution_count": null,
   "metadata": {},
   "outputs": [],
   "source": [
    "restaurant_df.head(20)"
   ]
  },
  {
   "cell_type": "code",
   "execution_count": null,
   "metadata": {
    "collapsed": true
   },
   "outputs": [],
   "source": [
    "import folium\n",
    "\n",
    "# 오류수정 17.10.10 - Latitude, Longitude를 latitude, longitude로 변경. \n",
    "hanyang_univ_map = folium.Map(location=[  37.298524, 126.834712], zoom_start=15)\n",
    "for l in restaurant_df[['name', 'latitude', 'longitude']].values:\n",
    "#    folium.Marker(l[1:],popup=l[0], icon=folium.Icon(color='red')).add_to(한양대지도)\n",
    "    folium.CircleMarker(l[1:], popup=l[0], color='red', fill_color='red', radius=5).add_to(hanyang_univ_map)"
   ]
  },
  {
   "cell_type": "code",
   "execution_count": null,
   "metadata": {},
   "outputs": [],
   "source": [
    "hanyang_univ_map"
   ]
  },
  {
   "cell_type": "markdown",
   "metadata": {},
   "source": [
    "# 식당 랜덤하게 뽑기"
   ]
  },
  {
   "cell_type": "code",
   "execution_count": null,
   "metadata": {},
   "outputs": [],
   "source": [
    "import random\n",
    "# 식당 랜덤뽑기\n",
    "rand_restaurant = random.choice(total_restaurant_info_list)[0]\n",
    "# 식당정보 데이터프레임에서 뽑은 식당 정보 추출\n",
    "print(restaurant_df[restaurant_df['name'] == rand_restaurant])\n",
    "rand_latlng = restaurant_df[restaurant_df['name'] == rand_restaurant][['latitude', 'longitude']].values[0]\n",
    "print(rand_latlng)"
   ]
  },
  {
   "cell_type": "code",
   "execution_count": null,
   "metadata": {},
   "outputs": [],
   "source": [
    "# 지도 \n",
    "# 오류 수정 17.10.10 - 지도 마커가 색칠되지않아 color를 red로 변경\n",
    "\n",
    "hanyang_univ_map = folium.Map(location=[  37.300853, 126.842930], zoom_start=15)\n",
    "folium.CircleMarker(rand_latlng, color='red', fill_color='red', radius=5).add_to(hanyang_univ_map)\n",
    "hanyang_univ_map"
   ]
  }
 ],
 "metadata": {
  "anaconda-cloud": {},
  "kernelspec": {
   "display_name": "Python [default]",
   "language": "python",
   "name": "python3"
  },
  "language_info": {
   "codemirror_mode": {
    "name": "ipython",
    "version": 3
   },
   "file_extension": ".py",
   "mimetype": "text/x-python",
   "name": "python",
   "nbconvert_exporter": "python",
   "pygments_lexer": "ipython3",
   "version": "3.5.2"
  }
 },
 "nbformat": 4,
 "nbformat_minor": 1
}
