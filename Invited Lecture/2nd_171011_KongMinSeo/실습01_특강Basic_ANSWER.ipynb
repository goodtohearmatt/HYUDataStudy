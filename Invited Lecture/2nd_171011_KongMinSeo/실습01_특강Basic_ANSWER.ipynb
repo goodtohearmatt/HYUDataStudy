{
 "cells": [
  {
   "cell_type": "markdown",
   "metadata": {},
   "source": [
    "### Python 문법"
   ]
  },
  {
   "cell_type": "markdown",
   "metadata": {},
   "source": [
    "# integer, float operation"
   ]
  },
  {
   "cell_type": "markdown",
   "metadata": {},
   "source": [
    "ex. \n",
    "- 500 + 900\n",
    "- 30 - 15\n",
    "- 10 * 100\n",
    "- 100 / 10\n",
    "\n",
    "- 1.1 + 123.9\n",
    "- 121.1 - 1.1\n",
    "- 1.123 * 4.123\n",
    "- 3.3 / 1.1\n",
    "\n",
    "을 구해보세요."
   ]
  },
  {
   "cell_type": "code",
   "execution_count": 61,
   "metadata": {},
   "outputs": [
    {
     "name": "stdout",
     "output_type": "stream",
     "text": [
      "1400\n",
      "15\n",
      "1000\n",
      "10.0\n",
      "125.0\n",
      "120.0\n",
      "4.630129\n",
      "2.9999999999999996\n"
     ]
    }
   ],
   "source": [
    "# solution\n",
    "print(500 + 900)\n",
    "print(30 - 15)\n",
    "print(10 * 100)\n",
    "print(100 / 10)\n",
    "print(1.1 + 123.9)\n",
    "print(121.1 - 1.1)\n",
    "print(1.123 * 4.123)\n",
    "print(3.3 / 1.1)\n"
   ]
  },
  {
   "cell_type": "markdown",
   "metadata": {},
   "source": [
    "# String Handling"
   ]
  },
  {
   "cell_type": "markdown",
   "metadata": {},
   "source": [
    "ex. 아래 선언되어있는 String의 3번째 글자를 출력해보세요."
   ]
  },
  {
   "cell_type": "code",
   "execution_count": 2,
   "metadata": {
    "collapsed": true
   },
   "outputs": [],
   "source": [
    "str1 = '문자열다뤄봐요'"
   ]
  },
  {
   "cell_type": "code",
   "execution_count": 3,
   "metadata": {},
   "outputs": [
    {
     "name": "stdout",
     "output_type": "stream",
     "text": [
      "열\n"
     ]
    }
   ],
   "source": [
    "# solution\n",
    "print(str1[2])"
   ]
  },
  {
   "cell_type": "markdown",
   "metadata": {},
   "source": [
    "ex. 아래에 선언되어있는 String의 불필요한 공백을 지워보세요"
   ]
  },
  {
   "cell_type": "code",
   "execution_count": 5,
   "metadata": {
    "collapsed": true
   },
   "outputs": [],
   "source": [
    "str1 = '문자열다뤄봐요  '\n",
    "str2 = '  한양대특강'\n",
    "str3 = '  파이떤 참 쉽죠?  '"
   ]
  },
  {
   "cell_type": "code",
   "execution_count": 6,
   "metadata": {},
   "outputs": [
    {
     "name": "stdout",
     "output_type": "stream",
     "text": [
      "문자열다뤄봐요\n",
      "한양대특강\n",
      "파이떤 참 쉽죠?\n"
     ]
    }
   ],
   "source": [
    "# solution\n",
    "str1 = str1.rstrip()\n",
    "str2 = str2.lstrip()\n",
    "str3 = str3.strip()\n",
    "print(str1)\n",
    "print(str2)\n",
    "print(str3)"
   ]
  },
  {
   "cell_type": "markdown",
   "metadata": {},
   "source": [
    "#### format문 사용하기"
   ]
  },
  {
   "cell_type": "markdown",
   "metadata": {},
   "source": [
    "ex. 'x와 y를 더하면 x+y입니다.' 라는 문장을 출력하는 프로그램을 작성해보시고, x와 y를 마음껏 바꿔보세요.\n",
    "\n",
    "hint: '{변수명} '.format(변수명=값)"
   ]
  },
  {
   "cell_type": "code",
   "execution_count": 7,
   "metadata": {},
   "outputs": [
    {
     "name": "stdout",
     "output_type": "stream",
     "text": [
      "와 를 더하면 입니다.\n"
     ]
    }
   ],
   "source": [
    "# ex3\n",
    "x = 1\n",
    "y = 2\n",
    "\n",
    "# 여기에 목표하는 format문을 작성해보세요.\n",
    "print('와 를 더하면 입니다.')"
   ]
  },
  {
   "cell_type": "code",
   "execution_count": 8,
   "metadata": {},
   "outputs": [
    {
     "name": "stdout",
     "output_type": "stream",
     "text": [
      "1와 2를 더하면 3입니다.\n"
     ]
    }
   ],
   "source": [
    "# solution\n",
    "x = 1\n",
    "y = 2\n",
    "\n",
    "# 여기에 목표하는 format문을 작성해보세요.\n",
    "print('{x}와 {y}를 더하면 {z}입니다.'.format(x=x, y=y, z=x+y))"
   ]
  },
  {
   "cell_type": "markdown",
   "metadata": {},
   "source": [
    "# Data Type - List, Dictionary"
   ]
  },
  {
   "cell_type": "markdown",
   "metadata": {},
   "source": [
    "#### 선언\n",
    "\n",
    "ex. list_1 이라는 List를 선언해보세요\n",
    "\n",
    "ex. dict_1 이라는 Dict를 선언해보세요\n"
   ]
  },
  {
   "cell_type": "code",
   "execution_count": 10,
   "metadata": {
    "collapsed": true
   },
   "outputs": [],
   "source": [
    "# solution\n",
    "list_1 = []\n",
    "dict_1 = {}"
   ]
  },
  {
   "cell_type": "markdown",
   "metadata": {},
   "source": [
    "#### element 추가\n",
    "\n",
    "ex. 위에서 선언한 list_1에 'a', 'b', 'c'를 추가해보세요.\n",
    "\n",
    "ex. 위에서 선언한 dict_1에 'a': 1, 'b': 2, 'c': 3 를 추가해보세요."
   ]
  },
  {
   "cell_type": "code",
   "execution_count": 13,
   "metadata": {},
   "outputs": [
    {
     "name": "stdout",
     "output_type": "stream",
     "text": [
      "['a', 'b', 'c', 'a', 'b', 'c', 'a', 'b', 'c']\n"
     ]
    }
   ],
   "source": [
    "# 리스트 추가 solution1\n",
    "list_1.append('a')\n",
    "list_1.append('b')\n",
    "list_1.append('c')\n",
    "\n",
    "print(list_1)"
   ]
  },
  {
   "cell_type": "code",
   "execution_count": 15,
   "metadata": {
    "collapsed": true
   },
   "outputs": [],
   "source": [
    "# 리스트 추가 solution2\n",
    "list_1 += ['a', 'b', 'c']"
   ]
  },
  {
   "cell_type": "code",
   "execution_count": 16,
   "metadata": {},
   "outputs": [
    {
     "name": "stdout",
     "output_type": "stream",
     "text": [
      "['a', 'b', 'c']\n"
     ]
    }
   ],
   "source": [
    "print(list_1)"
   ]
  },
  {
   "cell_type": "code",
   "execution_count": 17,
   "metadata": {},
   "outputs": [
    {
     "name": "stdout",
     "output_type": "stream",
     "text": [
      "{'c': 3, 'a': 1, 'b': 2}\n"
     ]
    }
   ],
   "source": [
    "# 딕셔너리 추가 solution1\n",
    "dict_1['a'] = 1\n",
    "dict_1['b'] = 2\n",
    "dict_1['c'] = 3\n",
    "\n",
    "print(dict_1)"
   ]
  },
  {
   "cell_type": "code",
   "execution_count": 20,
   "metadata": {},
   "outputs": [
    {
     "name": "stdout",
     "output_type": "stream",
     "text": [
      "{'c': 3, 'a': 1, 'b': 2}\n"
     ]
    }
   ],
   "source": [
    "# 딕셔너리 추가 solution2\n",
    "dict_1 = dict(a=1, b=2, c=3)\n",
    "print(dict_1)"
   ]
  },
  {
   "cell_type": "markdown",
   "metadata": {},
   "source": [
    "#### 반복문 - for 문"
   ]
  },
  {
   "cell_type": "markdown",
   "metadata": {},
   "source": [
    "ex. 1부터 10까지의 리스트를 one_to_ten 이라는 이름의 변수로 생성하고 출력하는 for 반복문을 작성하세요."
   ]
  },
  {
   "cell_type": "code",
   "execution_count": 11,
   "metadata": {},
   "outputs": [
    {
     "name": "stdout",
     "output_type": "stream",
     "text": [
      "1\n",
      "2\n",
      "3\n",
      "4\n",
      "5\n",
      "6\n",
      "7\n",
      "8\n",
      "9\n",
      "10\n"
     ]
    }
   ],
   "source": [
    "# for문 solution\n",
    "\n",
    "# one_to_ten = [1, 2, 3, 4, 5, 6, 7, 8, 9, 10]\n",
    "one_to_ten = range(1, 10+1)\n",
    "for i in one_to_ten:\n",
    "    print(i)"
   ]
  },
  {
   "cell_type": "markdown",
   "metadata": {},
   "source": [
    "#### 모듈 불러오기"
   ]
  },
  {
   "cell_type": "markdown",
   "metadata": {},
   "source": [
    "ex. random 모듈을 불러오세요.\n",
    "\n",
    "ex. time 모듈을 불러오세요."
   ]
  },
  {
   "cell_type": "code",
   "execution_count": 12,
   "metadata": {
    "collapsed": true
   },
   "outputs": [],
   "source": [
    "# 모듈 불러오기 solution\n",
    "import random\n",
    "import time"
   ]
  },
  {
   "cell_type": "markdown",
   "metadata": {},
   "source": [
    "#### random 모듈 사용하기 - 리스트 중 하나 고르기"
   ]
  },
  {
   "cell_type": "markdown",
   "metadata": {},
   "source": [
    "ex. random모듈을 사용해 가위, 바위, 보 중 하나를 고르는 코드를 작성하세요."
   ]
  },
  {
   "cell_type": "code",
   "execution_count": 13,
   "metadata": {},
   "outputs": [
    {
     "data": {
      "text/plain": [
       "'보'"
      ]
     },
     "execution_count": 13,
     "metadata": {},
     "output_type": "execute_result"
    }
   ],
   "source": [
    "# random모듈 사용하기 solution\n",
    "games = ['가위', '바위', '보']\n",
    "random.choice(games)"
   ]
  },
  {
   "cell_type": "markdown",
   "metadata": {},
   "source": [
    "#### time 모듈 사용하기 - 5초 쉬기"
   ]
  },
  {
   "cell_type": "markdown",
   "metadata": {},
   "source": [
    "ex. 1부터 5까지의 리스트를 만들고, time모듈을 사용해 3초씩 쉬며 숫자를 하나씩 출력하는 로직을 작성하세요."
   ]
  },
  {
   "cell_type": "code",
   "execution_count": 14,
   "metadata": {},
   "outputs": [
    {
     "name": "stdout",
     "output_type": "stream",
     "text": [
      "1\n",
      "2\n",
      "3\n",
      "4\n",
      "5\n"
     ]
    }
   ],
   "source": [
    "# time모듈 solution\n",
    "one_to_five = range(1, 5+1)\n",
    "for i in one_to_five:\n",
    "    print(i)\n",
    "    time.sleep(3)"
   ]
  },
  {
   "cell_type": "markdown",
   "metadata": {},
   "source": [
    "#### 예외처리"
   ]
  },
  {
   "cell_type": "markdown",
   "metadata": {
    "collapsed": true
   },
   "source": [
    "ex. 아래의 프로그램은 오류가 발생하는 프로그램입니다. \n",
    "\n",
    "아래의 오류가 발생할 시 '오류가 발생했어요!' 라는 메시지를 출력하는 예외처리를 해보세요."
   ]
  },
  {
   "cell_type": "code",
   "execution_count": 16,
   "metadata": {},
   "outputs": [
    {
     "ename": "TypeError",
     "evalue": "unsupported operand type(s) for /: 'int' and 'str'",
     "output_type": "error",
     "traceback": [
      "\u001b[1;31m---------------------------------------------------------------------------\u001b[0m",
      "\u001b[1;31mTypeError\u001b[0m                                 Traceback (most recent call last)",
      "\u001b[1;32m<ipython-input-16-f0ad2a83fc57>\u001b[0m in \u001b[0;36m<module>\u001b[1;34m()\u001b[0m\n\u001b[0;32m      3\u001b[0m \u001b[0mv2\u001b[0m \u001b[1;33m=\u001b[0m \u001b[1;36m2\u001b[0m\u001b[1;33m\u001b[0m\u001b[0m\n\u001b[0;32m      4\u001b[0m \u001b[1;33m\u001b[0m\u001b[0m\n\u001b[1;32m----> 5\u001b[1;33m \u001b[0mv3\u001b[0m \u001b[1;33m=\u001b[0m \u001b[0mv2\u001b[0m \u001b[1;33m/\u001b[0m \u001b[0mv1\u001b[0m\u001b[1;33m\u001b[0m\u001b[0m\n\u001b[0m",
      "\u001b[1;31mTypeError\u001b[0m: unsupported operand type(s) for /: 'int' and 'str'"
     ]
    }
   ],
   "source": [
    "# 예외처리\n",
    "v1 = '2'\n",
    "v2 = 2\n",
    "\n",
    "v3 = v2 / v1"
   ]
  },
  {
   "cell_type": "code",
   "execution_count": 17,
   "metadata": {},
   "outputs": [
    {
     "name": "stdout",
     "output_type": "stream",
     "text": [
      "오류가 발생했어요!\n"
     ]
    }
   ],
   "source": [
    "# 예외처리 solution\n",
    "try:\n",
    "    v1 = '2'\n",
    "    v2 = 2\n",
    "\n",
    "    v3 = v2 / v1\n",
    "except(TypeError) as e:\n",
    "    print('오류가 발생했어요!')"
   ]
  },
  {
   "cell_type": "markdown",
   "metadata": {},
   "source": [
    "ex. 위의 프로그램에서 '오류가 발생했어요!'라는 예외처리 메시지를 \n",
    "\n",
    "어떤 오류가 발생했는지 format문으로 표시해보세요.\n",
    "\n",
    "hint: except문으로 잡은 exception의 이름은 e.\\__class\\__.\\__name\\__ 으로 확인할 수 있습니다."
   ]
  },
  {
   "cell_type": "code",
   "execution_count": 18,
   "metadata": {},
   "outputs": [
    {
     "name": "stdout",
     "output_type": "stream",
     "text": [
      "TypeError 오류가 발생했어요!\n"
     ]
    }
   ],
   "source": [
    "# 예외처리 표시 solution\n",
    "try:\n",
    "    v1 = '2'\n",
    "    v2 = 2\n",
    "\n",
    "    v3 = v2 / v1\n",
    "except(TypeError) as e:\n",
    "    print('{} 오류가 발생했어요!'.format(e.__class__.__name__))"
   ]
  },
  {
   "cell_type": "markdown",
   "metadata": {},
   "source": [
    "#### 함수 선언"
   ]
  },
  {
   "cell_type": "markdown",
   "metadata": {},
   "source": [
    "ex. 위에서 'x와 y를 더하면 x+y입니다.' 라는 프로그램을 작성했습니다.\n",
    "\n",
    "이를 개량해, x와 y를 넣으면 'x와 y를 더하면 x+y입니다.' 라는 메시지를 출력하는 함수를 작성해보세요.\n",
    "\n",
    "또한, 더하기 외에도 빼기, 곱하기, 나누기 함수를 작성해봅시다.\n",
    "\n",
    "함수명은 sumsum(더하기), subsub(뺴기), mulmul(곱하기), divdiv(나누기) 로 하겠습니다."
   ]
  },
  {
   "cell_type": "code",
   "execution_count": 19,
   "metadata": {},
   "outputs": [
    {
     "name": "stdout",
     "output_type": "stream",
     "text": [
      "123(와/과) 456를 더하면 579입니다.\n",
      "123(와/과) 456를 빼면 -333입니다.\n",
      "123(와/과) 456를 곱하면 56088입니다.\n",
      "123(와/과) 456를 나누면 0.26973684210526316입니다.\n"
     ]
    }
   ],
   "source": [
    "# 함수선언 solution\n",
    "def sumsum(x, y):\n",
    "    print('{x}(와/과) {y}를 더하면 {z}입니다.'.format(x=x, y=y, z=x+y))\n",
    "\n",
    "def subsub(x, y):\n",
    "    print('{x}(와/과) {y}를 빼면 {z}입니다.'.format(x=x, y=y, z=x-y))\n",
    "\n",
    "def mulmul(x, y):\n",
    "    print('{x}(와/과) {y}를 곱하면 {z}입니다.'.format(x=x, y=y, z=x*y))\n",
    "\n",
    "def divdiv(x, y):\n",
    "    print('{x}(와/과) {y}를 나누면 {z}입니다.'.format(x=x, y=y, z=x/y))\n",
    "\n",
    "sumsum(123, 456)\n",
    "subsub(123, 456)\n",
    "mulmul(123, 456)\n",
    "divdiv(123, 456)"
   ]
  },
  {
   "cell_type": "markdown",
   "metadata": {},
   "source": [
    "#### 클래스 선언과 객체 생성 및 사용"
   ]
  },
  {
   "cell_type": "markdown",
   "metadata": {},
   "source": [
    "ex. 위에서 구현한 4칙연산 함수를 이용해 간단한 계산기 클래스를 만들고, 계산기객체를 생성해봅시다.\n",
    "\n",
    "hint: 함수에 self라는 인자를 추가해야합니다."
   ]
  },
  {
   "cell_type": "code",
   "execution_count": 20,
   "metadata": {},
   "outputs": [
    {
     "name": "stdout",
     "output_type": "stream",
     "text": [
      "123(와/과) 456를 더하면 579입니다.\n"
     ]
    }
   ],
   "source": [
    "# 클래스선언 solution\n",
    "class Calculator():\n",
    "    def sumsum(self, x, y):\n",
    "        print('{x}(와/과) {y}를 더하면 {z}입니다.'.format(x=x, y=y, z=x+y))\n",
    "\n",
    "    def subsub(self, x, y):\n",
    "        print('{x}(와/과) {y}를 빼면 {z}입니다.'.format(x=x, y=y, z=x-y))\n",
    "\n",
    "    def mulmul(self, x, y):\n",
    "        print('{x}(와/과) {y}를 곱하면 {z}입니다.'.format(x=x, y=y, z=x*y))\n",
    "\n",
    "    def divdiv(self, x, y):\n",
    "        print('{x}(와/과) {y}를 나누면 {z}입니다.'.format(x=x, y=y, z=x/y))\n",
    "        \n",
    "계산기 = Calculator()\n",
    "\n",
    "계산기.sumsum(123, 456)"
   ]
  },
  {
   "cell_type": "markdown",
   "metadata": {},
   "source": [
    "# Pandas 다루기"
   ]
  },
  {
   "cell_type": "markdown",
   "metadata": {},
   "source": [
    "#### pandas 불러오기\n",
    "\n",
    "ex. pandas 모듈을 pd라는 변수명으로 불러옵시다."
   ]
  },
  {
   "cell_type": "code",
   "execution_count": 21,
   "metadata": {
    "collapsed": true
   },
   "outputs": [],
   "source": [
    "# pandas 불러오기 solution\n",
    "import pandas as pd"
   ]
  },
  {
   "cell_type": "markdown",
   "metadata": {},
   "source": [
    "#### 데이터프레임 생성하기"
   ]
  },
  {
   "cell_type": "markdown",
   "metadata": {},
   "source": [
    "ex. 주어진 list로 다음과 같은 pandas의 dataframe객체를 만들어보세요.\n",
    "\n",
    "||0|1|2|3|\n",
    "|-----|-----|-----|-----|-----|\n",
    "|0|1|2|3|4|\n",
    "|1|a|b|c|d|\n",
    "\n",
    "    "
   ]
  },
  {
   "cell_type": "code",
   "execution_count": 22,
   "metadata": {
    "collapsed": true
   },
   "outputs": [],
   "source": [
    "# dataframe 생성\n",
    "list_1 = [1, 2, 3, 4]\n",
    "list_2 = ['a', 'b', 'c', 'd']"
   ]
  },
  {
   "cell_type": "code",
   "execution_count": 23,
   "metadata": {},
   "outputs": [
    {
     "data": {
      "text/html": [
       "<div>\n",
       "<style>\n",
       "    .dataframe thead tr:only-child th {\n",
       "        text-align: right;\n",
       "    }\n",
       "\n",
       "    .dataframe thead th {\n",
       "        text-align: left;\n",
       "    }\n",
       "\n",
       "    .dataframe tbody tr th {\n",
       "        vertical-align: top;\n",
       "    }\n",
       "</style>\n",
       "<table border=\"1\" class=\"dataframe\">\n",
       "  <thead>\n",
       "    <tr style=\"text-align: right;\">\n",
       "      <th></th>\n",
       "      <th>0</th>\n",
       "      <th>1</th>\n",
       "      <th>2</th>\n",
       "      <th>3</th>\n",
       "    </tr>\n",
       "  </thead>\n",
       "  <tbody>\n",
       "    <tr>\n",
       "      <th>0</th>\n",
       "      <td>1</td>\n",
       "      <td>2</td>\n",
       "      <td>3</td>\n",
       "      <td>4</td>\n",
       "    </tr>\n",
       "    <tr>\n",
       "      <th>1</th>\n",
       "      <td>a</td>\n",
       "      <td>b</td>\n",
       "      <td>c</td>\n",
       "      <td>d</td>\n",
       "    </tr>\n",
       "  </tbody>\n",
       "</table>\n",
       "</div>"
      ],
      "text/plain": [
       "   0  1  2  3\n",
       "0  1  2  3  4\n",
       "1  a  b  c  d"
      ]
     },
     "execution_count": 23,
     "metadata": {},
     "output_type": "execute_result"
    }
   ],
   "source": [
    "# dataframe 생성 solution\n",
    "pd.DataFrame([list_1, list_2])"
   ]
  },
  {
   "cell_type": "markdown",
   "metadata": {},
   "source": [
    "#### row와 column을 전환하기"
   ]
  },
  {
   "cell_type": "markdown",
   "metadata": {},
   "source": [
    "ex. 위의 예제에서 다음과 같이 row와 column을 반전시켜보세요.(Transpose)\n",
    "\n",
    "||0|1|\n",
    "|-----|-----|-----|-----|\n",
    "|0|1|a|\n",
    "|1|2|b|\n",
    "|2|3|c|\n",
    "|3|4|d|"
   ]
  },
  {
   "cell_type": "code",
   "execution_count": 24,
   "metadata": {},
   "outputs": [
    {
     "data": {
      "text/html": [
       "<div>\n",
       "<style>\n",
       "    .dataframe thead tr:only-child th {\n",
       "        text-align: right;\n",
       "    }\n",
       "\n",
       "    .dataframe thead th {\n",
       "        text-align: left;\n",
       "    }\n",
       "\n",
       "    .dataframe tbody tr th {\n",
       "        vertical-align: top;\n",
       "    }\n",
       "</style>\n",
       "<table border=\"1\" class=\"dataframe\">\n",
       "  <thead>\n",
       "    <tr style=\"text-align: right;\">\n",
       "      <th></th>\n",
       "      <th>0</th>\n",
       "      <th>1</th>\n",
       "    </tr>\n",
       "  </thead>\n",
       "  <tbody>\n",
       "    <tr>\n",
       "      <th>0</th>\n",
       "      <td>1</td>\n",
       "      <td>a</td>\n",
       "    </tr>\n",
       "    <tr>\n",
       "      <th>1</th>\n",
       "      <td>2</td>\n",
       "      <td>b</td>\n",
       "    </tr>\n",
       "    <tr>\n",
       "      <th>2</th>\n",
       "      <td>3</td>\n",
       "      <td>c</td>\n",
       "    </tr>\n",
       "    <tr>\n",
       "      <th>3</th>\n",
       "      <td>4</td>\n",
       "      <td>d</td>\n",
       "    </tr>\n",
       "  </tbody>\n",
       "</table>\n",
       "</div>"
      ],
      "text/plain": [
       "   0  1\n",
       "0  1  a\n",
       "1  2  b\n",
       "2  3  c\n",
       "3  4  d"
      ]
     },
     "execution_count": 24,
     "metadata": {},
     "output_type": "execute_result"
    }
   ],
   "source": [
    "# transpose solution\n",
    "list_1 = [1, 2, 3, 4]\n",
    "list_2 = ['a','b', 'c', 'd']\n",
    "\n",
    "pd.DataFrame([list_1, list_2]).T"
   ]
  },
  {
   "cell_type": "markdown",
   "metadata": {},
   "source": [
    "#### DataFrame Column명 변경하기"
   ]
  },
  {
   "cell_type": "markdown",
   "metadata": {},
   "source": [
    "ex. 다음과 같은 데이터프레임을 변수명 'celeb_df'로 만들고 칼럼을 '이름' 과 '나이'로 변경해보세요.\n",
    "\n",
    "|     |0    |1    |\n",
    "|-----|-----|-----|\n",
    "|  0  |장동건 |  45 |\n",
    "|  1  |원빈  |  39  |\n",
    "|  2  |정우성 | 44  |"
   ]
  },
  {
   "cell_type": "code",
   "execution_count": 25,
   "metadata": {},
   "outputs": [
    {
     "data": {
      "text/html": [
       "<div>\n",
       "<style>\n",
       "    .dataframe thead tr:only-child th {\n",
       "        text-align: right;\n",
       "    }\n",
       "\n",
       "    .dataframe thead th {\n",
       "        text-align: left;\n",
       "    }\n",
       "\n",
       "    .dataframe tbody tr th {\n",
       "        vertical-align: top;\n",
       "    }\n",
       "</style>\n",
       "<table border=\"1\" class=\"dataframe\">\n",
       "  <thead>\n",
       "    <tr style=\"text-align: right;\">\n",
       "      <th></th>\n",
       "      <th>이름</th>\n",
       "      <th>나이</th>\n",
       "    </tr>\n",
       "  </thead>\n",
       "  <tbody>\n",
       "    <tr>\n",
       "      <th>0</th>\n",
       "      <td>장동건</td>\n",
       "      <td>45</td>\n",
       "    </tr>\n",
       "    <tr>\n",
       "      <th>1</th>\n",
       "      <td>원빈</td>\n",
       "      <td>39</td>\n",
       "    </tr>\n",
       "    <tr>\n",
       "      <th>2</th>\n",
       "      <td>정우성</td>\n",
       "      <td>44</td>\n",
       "    </tr>\n",
       "  </tbody>\n",
       "</table>\n",
       "</div>"
      ],
      "text/plain": [
       "    이름  나이\n",
       "0  장동건  45\n",
       "1   원빈  39\n",
       "2  정우성  44"
      ]
     },
     "execution_count": 25,
     "metadata": {},
     "output_type": "execute_result"
    }
   ],
   "source": [
    "# column명 변경 solution\n",
    "list_1 = ['장동건', '원빈', '정우성']\n",
    "list_2 = [45, 39, 44]\n",
    "\n",
    "celeb_df = pd.DataFrame([list_1, list_2]).T\n",
    "celeb_df.columns = ['이름', '나이']\n",
    "celeb_df"
   ]
  },
  {
   "cell_type": "markdown",
   "metadata": {},
   "source": [
    "#### DataFrame column 조회하기"
   ]
  },
  {
   "cell_type": "markdown",
   "metadata": {},
   "source": [
    "ex. 위에서 작성한 celeb_df의 '이름' 칼럼만을 조회해보세요."
   ]
  },
  {
   "cell_type": "code",
   "execution_count": 26,
   "metadata": {},
   "outputs": [
    {
     "data": {
      "text/plain": [
       "0    장동건\n",
       "1     원빈\n",
       "2    정우성\n",
       "Name: 이름, dtype: object"
      ]
     },
     "execution_count": 26,
     "metadata": {},
     "output_type": "execute_result"
    }
   ],
   "source": [
    "# column 조회 solution\n",
    "celeb_df['이름']"
   ]
  },
  {
   "cell_type": "markdown",
   "metadata": {},
   "source": [
    "#### DataFrame row 조회하기"
   ]
  },
  {
   "cell_type": "markdown",
   "metadata": {},
   "source": [
    "ex. 위에서 작성한 celeb_df를 이름이 원빈인 행만 보여주세요."
   ]
  },
  {
   "cell_type": "code",
   "execution_count": 27,
   "metadata": {},
   "outputs": [
    {
     "data": {
      "text/html": [
       "<div>\n",
       "<style>\n",
       "    .dataframe thead tr:only-child th {\n",
       "        text-align: right;\n",
       "    }\n",
       "\n",
       "    .dataframe thead th {\n",
       "        text-align: left;\n",
       "    }\n",
       "\n",
       "    .dataframe tbody tr th {\n",
       "        vertical-align: top;\n",
       "    }\n",
       "</style>\n",
       "<table border=\"1\" class=\"dataframe\">\n",
       "  <thead>\n",
       "    <tr style=\"text-align: right;\">\n",
       "      <th></th>\n",
       "      <th>이름</th>\n",
       "      <th>나이</th>\n",
       "    </tr>\n",
       "  </thead>\n",
       "  <tbody>\n",
       "    <tr>\n",
       "      <th>1</th>\n",
       "      <td>원빈</td>\n",
       "      <td>39</td>\n",
       "    </tr>\n",
       "  </tbody>\n",
       "</table>\n",
       "</div>"
      ],
      "text/plain": [
       "   이름  나이\n",
       "1  원빈  39"
      ]
     },
     "execution_count": 27,
     "metadata": {},
     "output_type": "execute_result"
    }
   ],
   "source": [
    "# row 조회 solution1\n",
    "celeb_df.loc[1]\n",
    "# row 조회 solution2\n",
    "celeb_df[celeb_df['이름'] == '원빈']"
   ]
  },
  {
   "cell_type": "markdown",
   "metadata": {},
   "source": [
    "#### DataFrame 정렬하기\n",
    "ex. celeb_df를 나이가 적은 순으로(오름차순) 정렬해보세요."
   ]
  },
  {
   "cell_type": "code",
   "execution_count": 28,
   "metadata": {},
   "outputs": [
    {
     "data": {
      "text/html": [
       "<div>\n",
       "<style>\n",
       "    .dataframe thead tr:only-child th {\n",
       "        text-align: right;\n",
       "    }\n",
       "\n",
       "    .dataframe thead th {\n",
       "        text-align: left;\n",
       "    }\n",
       "\n",
       "    .dataframe tbody tr th {\n",
       "        vertical-align: top;\n",
       "    }\n",
       "</style>\n",
       "<table border=\"1\" class=\"dataframe\">\n",
       "  <thead>\n",
       "    <tr style=\"text-align: right;\">\n",
       "      <th></th>\n",
       "      <th>이름</th>\n",
       "      <th>나이</th>\n",
       "    </tr>\n",
       "  </thead>\n",
       "  <tbody>\n",
       "    <tr>\n",
       "      <th>1</th>\n",
       "      <td>원빈</td>\n",
       "      <td>39</td>\n",
       "    </tr>\n",
       "    <tr>\n",
       "      <th>2</th>\n",
       "      <td>정우성</td>\n",
       "      <td>44</td>\n",
       "    </tr>\n",
       "    <tr>\n",
       "      <th>0</th>\n",
       "      <td>장동건</td>\n",
       "      <td>45</td>\n",
       "    </tr>\n",
       "  </tbody>\n",
       "</table>\n",
       "</div>"
      ],
      "text/plain": [
       "    이름  나이\n",
       "1   원빈  39\n",
       "2  정우성  44\n",
       "0  장동건  45"
      ]
     },
     "execution_count": 28,
     "metadata": {},
     "output_type": "execute_result"
    }
   ],
   "source": [
    "# DataFrame 정렬 solution\n",
    "celeb_df.sort_values('나이')"
   ]
  },
  {
   "cell_type": "markdown",
   "metadata": {},
   "source": [
    "ex. celeb_df를 나이가 많은 순으로 (내림차순) 정렬해보세요."
   ]
  },
  {
   "cell_type": "code",
   "execution_count": 29,
   "metadata": {},
   "outputs": [
    {
     "data": {
      "text/html": [
       "<div>\n",
       "<style>\n",
       "    .dataframe thead tr:only-child th {\n",
       "        text-align: right;\n",
       "    }\n",
       "\n",
       "    .dataframe thead th {\n",
       "        text-align: left;\n",
       "    }\n",
       "\n",
       "    .dataframe tbody tr th {\n",
       "        vertical-align: top;\n",
       "    }\n",
       "</style>\n",
       "<table border=\"1\" class=\"dataframe\">\n",
       "  <thead>\n",
       "    <tr style=\"text-align: right;\">\n",
       "      <th></th>\n",
       "      <th>이름</th>\n",
       "      <th>나이</th>\n",
       "    </tr>\n",
       "  </thead>\n",
       "  <tbody>\n",
       "    <tr>\n",
       "      <th>0</th>\n",
       "      <td>장동건</td>\n",
       "      <td>45</td>\n",
       "    </tr>\n",
       "    <tr>\n",
       "      <th>2</th>\n",
       "      <td>정우성</td>\n",
       "      <td>44</td>\n",
       "    </tr>\n",
       "    <tr>\n",
       "      <th>1</th>\n",
       "      <td>원빈</td>\n",
       "      <td>39</td>\n",
       "    </tr>\n",
       "  </tbody>\n",
       "</table>\n",
       "</div>"
      ],
      "text/plain": [
       "    이름  나이\n",
       "0  장동건  45\n",
       "2  정우성  44\n",
       "1   원빈  39"
      ]
     },
     "execution_count": 29,
     "metadata": {},
     "output_type": "execute_result"
    }
   ],
   "source": [
    "# DataFrame 정렬 solution\n",
    "celeb_df.sort_values('나이', ascending=False)"
   ]
  },
  {
   "cell_type": "markdown",
   "metadata": {},
   "source": [
    "# selenium 다루기"
   ]
  },
  {
   "cell_type": "markdown",
   "metadata": {},
   "source": [
    "#### selenium의 webdriver 모듈을 불러오기"
   ]
  },
  {
   "cell_type": "code",
   "execution_count": 30,
   "metadata": {
    "collapsed": true
   },
   "outputs": [],
   "source": [
    "# selenium webdriver 불러오기\n",
    "from selenium import webdriver"
   ]
  },
  {
   "cell_type": "markdown",
   "metadata": {},
   "source": [
    "#### webdriver객체를 생성하기"
   ]
  },
  {
   "cell_type": "code",
   "execution_count": 36,
   "metadata": {
    "collapsed": true,
    "scrolled": true
   },
   "outputs": [],
   "source": [
    "# 객세생성 solution\n",
    "driver = webdriver.Chrome()"
   ]
  },
  {
   "cell_type": "markdown",
   "metadata": {},
   "source": [
    "#### 네이버 접속하기"
   ]
  },
  {
   "cell_type": "code",
   "execution_count": 37,
   "metadata": {},
   "outputs": [],
   "source": [
    "# naver 접속하기 solution\n",
    "driver.get('http://www.naver.com')"
   ]
  },
  {
   "cell_type": "markdown",
   "metadata": {},
   "source": [
    "#### 네이버 로그인하기"
   ]
  },
  {
   "cell_type": "code",
   "execution_count": 38,
   "metadata": {
    "collapsed": true
   },
   "outputs": [],
   "source": [
    "# naver 로그인 solution\n",
    "id_element = driver.find_element_by_id('id')\n",
    "pw_element = driver.find_element_by_id('pw') \n",
    "\n",
    "id_element.send_keys('__id__')\n",
    "pw_element.send_keys('__password__')\n",
    "\n",
    "login_button = driver.find_element_by_css_selector('span.btn_login')\n",
    "login_button.click()"
   ]
  }
 ],
 "metadata": {
  "anaconda-cloud": {},
  "kernelspec": {
   "display_name": "Python [default]",
   "language": "python",
   "name": "python3"
  },
  "language_info": {
   "codemirror_mode": {
    "name": "ipython",
    "version": 3
   },
   "file_extension": ".py",
   "mimetype": "text/x-python",
   "name": "python",
   "nbconvert_exporter": "python",
   "pygments_lexer": "ipython3",
   "version": "3.5.2"
  }
 },
 "nbformat": 4,
 "nbformat_minor": 1
}
