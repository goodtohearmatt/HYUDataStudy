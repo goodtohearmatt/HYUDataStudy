{
 "cells": [
  {
   "cell_type": "markdown",
   "metadata": {},
   "source": [
    "## 실습04번: 현재 내 위치에서 가장 가까운 식당 찾고 시각화"
   ]
  },
  {
   "cell_type": "markdown",
   "metadata": {},
   "source": [
    "#### 새로운 조건이 등장했습니다. \"현재 내 위치\" , \"가장 가까운\"\n",
    "\n",
    "이번 실습은 저희가 모은 망고플레이트 맛집 데이터에서 현재 위치기반 가장 가까운 식당을 찾고자 하는 상황을 가정합니다.\n",
    "\n",
    "지금까지 웹 크롤링, 위/경도 변환, 지도시각화의 과정을 거쳤으니\n",
    "\n",
    "이제 추가적인 요구사항을 반영하는 일만 남았습니다.\n",
    "\n",
    "빠른 실행을 위해 쓸데없는 주석은 삭제하도록하겠습니다."
   ]
  },
  {
   "cell_type": "code",
   "execution_count": null,
   "metadata": {
    "collapsed": true
   },
   "outputs": [],
   "source": [
    "import pandas as pd"
   ]
  },
  {
   "cell_type": "markdown",
   "metadata": {},
   "source": [
    "데이터 수집은 실습03까지 해놓은 데이터로도 가능할 것같습니다."
   ]
  },
  {
   "cell_type": "code",
   "execution_count": null,
   "metadata": {},
   "outputs": [],
   "source": [
    "restaurant_df = pd.read_csv('./한대앞_망고플레이트_맛집목록_위경도.csv')\n",
    "# 칼럼명을 소문자 latitude, longitude로 변경\n",
    "restaurant_df.columns = ['name', 'address', 'latitude', 'longitude']\n",
    "restaurant_df.head(5)"
   ]
  },
  {
   "cell_type": "markdown",
   "metadata": {},
   "source": [
    "#### 현재 위치의 주소를 입력하면 위/경도를 뱉어내는 Google API이용\n",
    "\n",
    "실습03번 위/경도 변환 2번째 방법인 google geocode API를 기억하시나요?\n",
    "\n",
    "한글 주소를 입력하면 위/경도값을 list로 반환하는 함수를 작성했었습니다. \n",
    "\n",
    "이번에도 사용해보죠."
   ]
  },
  {
   "cell_type": "code",
   "execution_count": null,
   "metadata": {
    "collapsed": true
   },
   "outputs": [],
   "source": [
    "import requests\n",
    "import json\n",
    "\n",
    "def get_latitude_longitude(addr):\n",
    "    '''\n",
    "    DESCRIPTION: 주소를 입력하면 위도(latitude)/경도(longitude)를 반환하는 함수 \n",
    "    ex) get_latitude_longitude('경기도 안산시 상록구 한양대학로 55')\n",
    "    '''\n",
    "    location = addr\n",
    "    response = requests.get('http://maps.googleapis.com/maps/api/geocode/json?sensor=false&language=ko&address=' + location)    \n",
    "    loc_dict = json.loads(response.text)\n",
    "    latitude = loc_dict['results'][0]['geometry']['location']['lat'] \n",
    "    longitude = loc_dict['results'][0]['geometry']['location']['lng']\n",
    "    return [latitude, longitude]"
   ]
  },
  {
   "cell_type": "markdown",
   "metadata": {},
   "source": [
    "#### 현재 내 위치 : 한양대 에리카캠퍼스 경상관\n",
    "\n",
    "주소: 경기도 안산시 상록구 사3동 한양대학로55 한양대학교 경상대학"
   ]
  },
  {
   "cell_type": "code",
   "execution_count": null,
   "metadata": {
    "collapsed": true
   },
   "outputs": [],
   "source": [
    "# 주소를 기반으로 위/경도 데이터 얻기\n",
    "my_location = get_latitude_longitude('경기도 안산시 상록구 사3동 한양대학로55 한양대학교 경상대학')"
   ]
  },
  {
   "cell_type": "markdown",
   "metadata": {},
   "source": [
    "### 현 위치를 알아냈으니, 이제 '가장 가까운' 식당을 찾아봅시다.\n",
    "\n",
    "위/경도를 아는 상태에서의 두 점 간의 거리를 측정하는 방법에는 \n",
    "\n",
    "삼각함수의 haversine이 있습니다.\n",
    "\n",
    "괜찮습니다. 저도 모릅니다. 이런 상황에서 이런 도구를 쓴다는것이 중요하죠!"
   ]
  },
  {
   "cell_type": "code",
   "execution_count": null,
   "metadata": {
    "collapsed": true
   },
   "outputs": [],
   "source": [
    "import math\n",
    "def haversine(my_location, target_location):\n",
    "    '''\n",
    "    DESCRIPTION: 두 위도경도 사이의 대원거리(great circle distance)를 계산. 위도경도는 각도 단위로 계산.\n",
    "    '''\n",
    "    latitude1, longitude1 = my_location\n",
    "    latitude2, longitude2 = target_location\n",
    "    lat1, lon1, lat2, lon2 = map(math.radians, [latitude1, longitude1, latitude2, longitude2])\n",
    "    \n",
    "    d_lat = lat2 - lat1\n",
    "    d_lon = lon2 - lon1\n",
    "    \n",
    "    a = math.sin(d_lat / 2) ** 2 + math.cos(lat1) * math.cos(lat2) * math.sin(d_lon / 2) ** 2\n",
    "    c = 2 * math.atan2(math.sqrt(a), math.sqrt(1-a))\n",
    "    \n",
    "    meter = 6367 * c * 1000\n",
    "    return round(meter, 2)\n",
    "    "
   ]
  },
  {
   "cell_type": "markdown",
   "metadata": {},
   "source": [
    "#### 현재 위치기반 모든 식당의 거리를 재봅시다."
   ]
  },
  {
   "cell_type": "code",
   "execution_count": null,
   "metadata": {
    "collapsed": true
   },
   "outputs": [],
   "source": [
    "distance_list = []\n",
    "for r in restaurant_df[['latitude', 'longitude']].values:\n",
    "    distance_list.append(haversine(my_location, r))"
   ]
  },
  {
   "cell_type": "code",
   "execution_count": null,
   "metadata": {},
   "outputs": [],
   "source": [
    "distance_list[:3]"
   ]
  },
  {
   "cell_type": "markdown",
   "metadata": {},
   "source": [
    "이제 모든 각 식당들이 현재 제 위치에서 몇 미터나 떨어졌는지 알아냈습니다. \n",
    "\n",
    "이걸 새로 데이터 테이블에 정리해봅시다."
   ]
  },
  {
   "cell_type": "code",
   "execution_count": null,
   "metadata": {
    "collapsed": true
   },
   "outputs": [],
   "source": [
    "restaurant_df['distance'] = distance_list"
   ]
  },
  {
   "cell_type": "code",
   "execution_count": null,
   "metadata": {},
   "outputs": [],
   "source": [
    "restaurant_df.head()"
   ]
  },
  {
   "cell_type": "markdown",
   "metadata": {},
   "source": [
    "이제 가장 작은 distance값을 찾으면 되겠군요?\n",
    "\n",
    "pandas의 정렬법은 sort_values라는 method가 있습니다."
   ]
  },
  {
   "cell_type": "code",
   "execution_count": null,
   "metadata": {},
   "outputs": [],
   "source": [
    "near_restaurant_df = restaurant_df.sort_values('distance')\n",
    "near_restaurant_df.reset_index(drop=True, inplace=True)\n",
    "near_restaurant_df.head(5)\n"
   ]
  },
  {
   "cell_type": "markdown",
   "metadata": {},
   "source": [
    "현 위치기반 가장 가까운 식당이 어딘가요? 이제 지도 시각화를 해봅시다."
   ]
  },
  {
   "cell_type": "code",
   "execution_count": null,
   "metadata": {
    "collapsed": true
   },
   "outputs": [],
   "source": [
    "nearest_latlng = near_restaurant_df.loc[0][['latitude', 'longitude']].values"
   ]
  },
  {
   "cell_type": "code",
   "execution_count": null,
   "metadata": {
    "scrolled": true
   },
   "outputs": [],
   "source": [
    "import folium\n",
    "# 지도 \n",
    "hanyang_univ_map = folium.Map(location=[  37.300853, 126.842930], zoom_start=15)\n",
    "# 식당표시\n",
    "folium.CircleMarker(nearest_latlng, color='red', fill_color='red', radius=5).add_to(hanyang_univ_map)\n",
    "# 내 위치 표시\n",
    "folium.CircleMarker(my_location, color='blue', fill_color='blue', radius=5).add_to(hanyang_univ_map)\n",
    "hanyang_univ_map"
   ]
  },
  {
   "cell_type": "code",
   "execution_count": null,
   "metadata": {
    "collapsed": true
   },
   "outputs": [],
   "source": []
  }
 ],
 "metadata": {
  "anaconda-cloud": {},
  "kernelspec": {
   "display_name": "Python [default]",
   "language": "python",
   "name": "python3"
  },
  "language_info": {
   "codemirror_mode": {
    "name": "ipython",
    "version": 3
   },
   "file_extension": ".py",
   "mimetype": "text/x-python",
   "name": "python",
   "nbconvert_exporter": "python",
   "pygments_lexer": "ipython3",
   "version": "3.5.2"
  }
 },
 "nbformat": 4,
 "nbformat_minor": 1
}
