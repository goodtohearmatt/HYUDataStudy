{
 "cells": [
  {
   "cell_type": "markdown",
   "metadata": {},
   "source": [
    "## 실습#1 우리학교는 어디에?"
   ]
  },
  {
   "cell_type": "markdown",
   "metadata": {},
   "source": [
    "### (1) 라이브러리 설정"
   ]
  },
  {
   "cell_type": "code",
   "execution_count": 2,
   "metadata": {
    "collapsed": true
   },
   "outputs": [],
   "source": [
    "import sys\n",
    "import time\n",
    "from selenium import webdriver\n",
    "from bs4 import BeautifulSoup\n",
    "import pandas as pd\n",
    "import folium"
   ]
  },
  {
   "cell_type": "markdown",
   "metadata": {},
   "source": [
    "### (2) 데이터 수집하기(셀레니엄 활용)"
   ]
  },
  {
   "cell_type": "code",
   "execution_count": 3,
   "metadata": {
    "collapsed": true
   },
   "outputs": [],
   "source": [
    "# 웹드라이버의 주소를 적고, 웹사이트 불러오기\n",
    "# driver = webdriver.Chrome('C:\\chromedriver_win32\\chromedriver')driver = webdriver.Chrome(\n",
    "driver = webdriver.Chrome()\n",
    "driver.get(\"http://krsearch.co.kr/\")"
   ]
  },
  {
   "cell_type": "code",
   "execution_count": 4,
   "metadata": {
    "collapsed": true
   },
   "outputs": [],
   "source": [
    "# 학교 리스트\n",
    "q_list = ['서울방일초등학교', '방배중학교', '서울고등학교', '원곡고등학교','상록고등학교', '양지고등학교', '안산고등학교', '초지고등학교', '불곡고등학교']"
   ]
  },
  {
   "cell_type": "code",
   "execution_count": 5,
   "metadata": {
    "collapsed": true
   },
   "outputs": [],
   "source": [
    "# 고등학교 검색\n",
    "all_data = []\n",
    "for q in q_list:\n",
    "    search_element = driver.find_element_by_name('p')\n",
    "    search_element.clear()\n",
    "    search_element.send_keys(q)\n",
    "# 검색 후 클릭\n",
    "    search_button = driver.find_element_by_class_name(\"searchbtn2\")\n",
    "    search_button.click()\n",
    "# 검색결과 수집\n",
    "    pageSource = driver.page_source\n",
    "    bsObj = BeautifulSoup(pageSource, 'html.parser')\n",
    "    school=[]\n",
    "    data = bsObj.find_all('td',{\"class\":\"bbslist\"})\n",
    "    school.append(data[0].get_text().strip())\n",
    "    school.append(data[1].get_text().strip())\n",
    "    driver.get(\"http://krsearch.co.kr/\")\n",
    "    all_data.append(school)"
   ]
  },
  {
   "cell_type": "code",
   "execution_count": 6,
   "metadata": {},
   "outputs": [
    {
     "data": {
      "text/plain": [
       "[['서울방일초등학교', '서울특별시 서초구 방배동 167-4'],\n",
       " ['방배중학교', '서울특별시 서초구 동광로 144'],\n",
       " ['서울고등학교', '서울특별시 서초구 서초3동 1526-1번지'],\n",
       " ['원곡고등학교', '경기도 안산시 단원구 원곡동 965-1번지'],\n",
       " ['상록고등학교', '경기도 안산시 상록구 본오동 산127-1번지'],\n",
       " ['양지고등학교', '경기도 안산시 단원구 고잔동 713번지'],\n",
       " ['안산고등학교', '경기도 안산시 상록구 청룡4길 8'],\n",
       " ['초지고등학교', '경기도 안산시 단원구 광덕1로 13'],\n",
       " ['불곡고등학교', '경기도 성남시 분당구 금곡로 149번지']]"
      ]
     },
     "execution_count": 6,
     "metadata": {},
     "output_type": "execute_result"
    }
   ],
   "source": [
    "# 데이터 확인\n",
    "all_data"
   ]
  },
  {
   "cell_type": "code",
   "execution_count": 7,
   "metadata": {
    "collapsed": true
   },
   "outputs": [],
   "source": [
    "# DataFrame 형태로 바꾸기\n",
    "fdata = pd.DataFrame(all_data, columns = ['name','address'])"
   ]
  },
  {
   "cell_type": "code",
   "execution_count": 8,
   "metadata": {},
   "outputs": [
    {
     "data": {
      "text/html": [
       "<div>\n",
       "<style>\n",
       "    .dataframe thead tr:only-child th {\n",
       "        text-align: right;\n",
       "    }\n",
       "\n",
       "    .dataframe thead th {\n",
       "        text-align: left;\n",
       "    }\n",
       "\n",
       "    .dataframe tbody tr th {\n",
       "        vertical-align: top;\n",
       "    }\n",
       "</style>\n",
       "<table border=\"1\" class=\"dataframe\">\n",
       "  <thead>\n",
       "    <tr style=\"text-align: right;\">\n",
       "      <th></th>\n",
       "      <th>name</th>\n",
       "      <th>address</th>\n",
       "    </tr>\n",
       "  </thead>\n",
       "  <tbody>\n",
       "    <tr>\n",
       "      <th>0</th>\n",
       "      <td>서울방일초등학교</td>\n",
       "      <td>서울특별시 서초구 방배동 167-4</td>\n",
       "    </tr>\n",
       "    <tr>\n",
       "      <th>1</th>\n",
       "      <td>방배중학교</td>\n",
       "      <td>서울특별시 서초구 동광로 144</td>\n",
       "    </tr>\n",
       "    <tr>\n",
       "      <th>2</th>\n",
       "      <td>서울고등학교</td>\n",
       "      <td>서울특별시 서초구 서초3동 1526-1번지</td>\n",
       "    </tr>\n",
       "    <tr>\n",
       "      <th>3</th>\n",
       "      <td>원곡고등학교</td>\n",
       "      <td>경기도 안산시 단원구 원곡동 965-1번지</td>\n",
       "    </tr>\n",
       "    <tr>\n",
       "      <th>4</th>\n",
       "      <td>상록고등학교</td>\n",
       "      <td>경기도 안산시 상록구 본오동 산127-1번지</td>\n",
       "    </tr>\n",
       "    <tr>\n",
       "      <th>5</th>\n",
       "      <td>양지고등학교</td>\n",
       "      <td>경기도 안산시 단원구 고잔동 713번지</td>\n",
       "    </tr>\n",
       "    <tr>\n",
       "      <th>6</th>\n",
       "      <td>안산고등학교</td>\n",
       "      <td>경기도 안산시 상록구 청룡4길 8</td>\n",
       "    </tr>\n",
       "    <tr>\n",
       "      <th>7</th>\n",
       "      <td>초지고등학교</td>\n",
       "      <td>경기도 안산시 단원구 광덕1로 13</td>\n",
       "    </tr>\n",
       "    <tr>\n",
       "      <th>8</th>\n",
       "      <td>불곡고등학교</td>\n",
       "      <td>경기도 성남시 분당구 금곡로 149번지</td>\n",
       "    </tr>\n",
       "  </tbody>\n",
       "</table>\n",
       "</div>"
      ],
      "text/plain": [
       "       name                   address\n",
       "0  서울방일초등학교       서울특별시 서초구 방배동 167-4\n",
       "1     방배중학교         서울특별시 서초구 동광로 144\n",
       "2    서울고등학교   서울특별시 서초구 서초3동 1526-1번지\n",
       "3    원곡고등학교   경기도 안산시 단원구 원곡동 965-1번지\n",
       "4    상록고등학교  경기도 안산시 상록구 본오동 산127-1번지\n",
       "5    양지고등학교     경기도 안산시 단원구 고잔동 713번지\n",
       "6    안산고등학교        경기도 안산시 상록구 청룡4길 8\n",
       "7    초지고등학교       경기도 안산시 단원구 광덕1로 13\n",
       "8    불곡고등학교     경기도 성남시 분당구 금곡로 149번지"
      ]
     },
     "execution_count": 8,
     "metadata": {},
     "output_type": "execute_result"
    }
   ],
   "source": [
    "fdata"
   ]
  },
  {
   "cell_type": "markdown",
   "metadata": {},
   "source": [
    "### (3) 위/경도 정보 만들기¶"
   ]
  },
  {
   "cell_type": "code",
   "execution_count": 9,
   "metadata": {
    "collapsed": true
   },
   "outputs": [],
   "source": [
    "import requests\n",
    "import json\n",
    "\n",
    "def get_latitude_longitude(addr):\n",
    "    '''\n",
    "    DESCRIPTION: 주소를 입력하면 위도(latitude)/경도(longitude)를 반환하는 함수 \n",
    "    ex) get_latitude_longitude('경기도 안산시 상록구 한양대학로 55')\n",
    "    '''\n",
    "    location = addr\n",
    "    response = requests.get('http://maps.googleapis.com/maps/api/geocode/json?sensor=false&language=ko&address=' + location)    \n",
    "    loc_dict = json.loads(response.text)\n",
    "    latitude = loc_dict['results'][0]['geometry']['location']['lat'] \n",
    "    longitude = loc_dict['results'][0]['geometry']['location']['lng']\n",
    "    return [latitude, longitude]"
   ]
  },
  {
   "cell_type": "code",
   "execution_count": 10,
   "metadata": {
    "collapsed": true
   },
   "outputs": [],
   "source": [
    "# 위/경도 정보로 저장해 새로운 데이터 형성 후 저장하기\n",
    "latitude_list = []\n",
    "longitude_list = []\n",
    "for i in fdata['address'].values:\n",
    "    lat, lon = get_latitude_longitude(i)\n",
    "    latitude_list.append(lat)\n",
    "    longitude_list.append(lon)\n",
    "\n",
    "fdata['latitude'] = latitude_list\n",
    "fdata['longitude'] = longitude_list"
   ]
  },
  {
   "cell_type": "code",
   "execution_count": 11,
   "metadata": {},
   "outputs": [
    {
     "data": {
      "text/html": [
       "<div>\n",
       "<style>\n",
       "    .dataframe thead tr:only-child th {\n",
       "        text-align: right;\n",
       "    }\n",
       "\n",
       "    .dataframe thead th {\n",
       "        text-align: left;\n",
       "    }\n",
       "\n",
       "    .dataframe tbody tr th {\n",
       "        vertical-align: top;\n",
       "    }\n",
       "</style>\n",
       "<table border=\"1\" class=\"dataframe\">\n",
       "  <thead>\n",
       "    <tr style=\"text-align: right;\">\n",
       "      <th></th>\n",
       "      <th>name</th>\n",
       "      <th>address</th>\n",
       "      <th>latitude</th>\n",
       "      <th>longitude</th>\n",
       "    </tr>\n",
       "  </thead>\n",
       "  <tbody>\n",
       "    <tr>\n",
       "      <th>0</th>\n",
       "      <td>서울방일초등학교</td>\n",
       "      <td>서울특별시 서초구 방배동 167-4</td>\n",
       "      <td>37.485343</td>\n",
       "      <td>126.998202</td>\n",
       "    </tr>\n",
       "    <tr>\n",
       "      <th>1</th>\n",
       "      <td>방배중학교</td>\n",
       "      <td>서울특별시 서초구 동광로 144</td>\n",
       "      <td>37.494479</td>\n",
       "      <td>126.998255</td>\n",
       "    </tr>\n",
       "    <tr>\n",
       "      <th>2</th>\n",
       "      <td>서울고등학교</td>\n",
       "      <td>서울특별시 서초구 서초3동 1526-1번지</td>\n",
       "      <td>37.484270</td>\n",
       "      <td>127.005399</td>\n",
       "    </tr>\n",
       "    <tr>\n",
       "      <th>3</th>\n",
       "      <td>원곡고등학교</td>\n",
       "      <td>경기도 안산시 단원구 원곡동 965-1번지</td>\n",
       "      <td>37.333300</td>\n",
       "      <td>126.798053</td>\n",
       "    </tr>\n",
       "    <tr>\n",
       "      <th>4</th>\n",
       "      <td>상록고등학교</td>\n",
       "      <td>경기도 안산시 상록구 본오동 산127-1번지</td>\n",
       "      <td>37.299510</td>\n",
       "      <td>126.874971</td>\n",
       "    </tr>\n",
       "    <tr>\n",
       "      <th>5</th>\n",
       "      <td>양지고등학교</td>\n",
       "      <td>경기도 안산시 단원구 고잔동 713번지</td>\n",
       "      <td>37.309535</td>\n",
       "      <td>126.822268</td>\n",
       "    </tr>\n",
       "    <tr>\n",
       "      <th>6</th>\n",
       "      <td>안산고등학교</td>\n",
       "      <td>경기도 안산시 상록구 청룡4길 8</td>\n",
       "      <td>37.360044</td>\n",
       "      <td>126.873672</td>\n",
       "    </tr>\n",
       "    <tr>\n",
       "      <th>7</th>\n",
       "      <td>초지고등학교</td>\n",
       "      <td>경기도 안산시 단원구 광덕1로 13</td>\n",
       "      <td>37.309868</td>\n",
       "      <td>126.810919</td>\n",
       "    </tr>\n",
       "    <tr>\n",
       "      <th>8</th>\n",
       "      <td>불곡고등학교</td>\n",
       "      <td>경기도 성남시 분당구 금곡로 149번지</td>\n",
       "      <td>37.348080</td>\n",
       "      <td>127.119199</td>\n",
       "    </tr>\n",
       "  </tbody>\n",
       "</table>\n",
       "</div>"
      ],
      "text/plain": [
       "       name                   address   latitude   longitude\n",
       "0  서울방일초등학교       서울특별시 서초구 방배동 167-4  37.485343  126.998202\n",
       "1     방배중학교         서울특별시 서초구 동광로 144  37.494479  126.998255\n",
       "2    서울고등학교   서울특별시 서초구 서초3동 1526-1번지  37.484270  127.005399\n",
       "3    원곡고등학교   경기도 안산시 단원구 원곡동 965-1번지  37.333300  126.798053\n",
       "4    상록고등학교  경기도 안산시 상록구 본오동 산127-1번지  37.299510  126.874971\n",
       "5    양지고등학교     경기도 안산시 단원구 고잔동 713번지  37.309535  126.822268\n",
       "6    안산고등학교        경기도 안산시 상록구 청룡4길 8  37.360044  126.873672\n",
       "7    초지고등학교       경기도 안산시 단원구 광덕1로 13  37.309868  126.810919\n",
       "8    불곡고등학교     경기도 성남시 분당구 금곡로 149번지  37.348080  127.119199"
      ]
     },
     "execution_count": 11,
     "metadata": {},
     "output_type": "execute_result"
    }
   ],
   "source": [
    "fdata"
   ]
  },
  {
   "cell_type": "code",
   "execution_count": 12,
   "metadata": {
    "collapsed": true
   },
   "outputs": [],
   "source": [
    "import folium\n",
    "# 오류수정 17.10.10 - Latitude, Longitude를 latitude, longitude로 변경. \n",
    "hanyang_univ_map = folium.Map(location=[37.298524, 126.834712], zoom_start=10)\n",
    "for l in fdata[['name', 'latitude', 'longitude']].values:\n",
    "    folium.CircleMarker(l[1:], popup=l[0], color='red', fill_color='red', radius=5).add_to(hanyang_univ_map)"
   ]
  },
  {
   "cell_type": "code",
   "execution_count": 13,
   "metadata": {},
   "outputs": [
    {
     "data": {
      "text/html": [
       "<div style=\"width:100%;\"><div style=\"position:relative;width:100%;height:0;padding-bottom:60%;\"><iframe src=\"data:text/html;charset=utf-8;base64,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\" style=\"position:absolute;width:100%;height:100%;left:0;top:0;border:none !important;\" allowfullscreen webkitallowfullscreen mozallowfullscreen></iframe></div></div>"
      ],
      "text/plain": [
       "<folium.folium.Map at 0x25825162048>"
      ]
     },
     "execution_count": 13,
     "metadata": {},
     "output_type": "execute_result"
    }
   ],
   "source": [
    "hanyang_univ_map"
   ]
  },
  {
   "cell_type": "markdown",
   "metadata": {},
   "source": [
    "## 실습#2 제일 가까운 학교는?"
   ]
  },
  {
   "cell_type": "markdown",
   "metadata": {},
   "source": [
    "### (1) 기준 위치 설정하기"
   ]
  },
  {
   "cell_type": "code",
   "execution_count": 14,
   "metadata": {
    "collapsed": true
   },
   "outputs": [],
   "source": [
    "# 주소를 기반으로 위/경도 데이터 얻기\n",
    "#my_location = get_latitude_longitude('경기도 안산시 상록구 사3동 한양대학로55 한양대학교 경상대학')\n",
    "my_location = [37.296755, 126.836194]\n",
    "my_location_name = '한양대학교 제4공학관'"
   ]
  },
  {
   "cell_type": "markdown",
   "metadata": {},
   "source": [
    "### (2) 위치 계산기 만들기"
   ]
  },
  {
   "cell_type": "code",
   "execution_count": 15,
   "metadata": {
    "collapsed": true
   },
   "outputs": [],
   "source": [
    "import math\n",
    "def haversine(my_location, target_location):\n",
    "    '''\n",
    "    DESCRIPTION: 두 위도경도 사이의 대원거리(great circle distance)를 계산. 위도경도는 각도 단위로 계산.\n",
    "    '''\n",
    "    latitude1, longitude1 = my_location\n",
    "    latitude2, longitude2 = target_location\n",
    "    lat1, lon1, lat2, lon2 = map(math.radians, [latitude1, longitude1, latitude2, longitude2])\n",
    "    \n",
    "    d_lat = lat2 - lat1\n",
    "    d_lon = lon2 - lon1\n",
    "    \n",
    "    a = math.sin(d_lat / 2) ** 2 + math.cos(lat1) * math.cos(lat2) * math.sin(d_lon / 2) ** 2\n",
    "    c = 2 * math.atan2(math.sqrt(a), math.sqrt(1-a))\n",
    "    \n",
    "    meter = 6367 * c * 1000\n",
    "    return round(meter, 2)"
   ]
  },
  {
   "cell_type": "markdown",
   "metadata": {},
   "source": [
    "### (3) 거리 정보 저장하기"
   ]
  },
  {
   "cell_type": "code",
   "execution_count": 16,
   "metadata": {
    "collapsed": true
   },
   "outputs": [],
   "source": [
    "# 계산된 거리 정보 리스트화 하기\n",
    "distance_list = []\n",
    "for r in fdata[['latitude', 'longitude']].values:\n",
    "    distance_list.append(haversine(my_location, r))"
   ]
  },
  {
   "cell_type": "code",
   "execution_count": 17,
   "metadata": {},
   "outputs": [
    {
     "data": {
      "text/plain": [
       "[25372.89,\n",
       " 26219.72,\n",
       " 25639.51,\n",
       " 5277.85,\n",
       " 3441.52,\n",
       " 1879.41,\n",
       " 7773.66,\n",
       " 2667.32,\n",
       " 25651.42]"
      ]
     },
     "execution_count": 17,
     "metadata": {},
     "output_type": "execute_result"
    }
   ],
   "source": [
    "distance_list"
   ]
  },
  {
   "cell_type": "code",
   "execution_count": 18,
   "metadata": {
    "collapsed": true
   },
   "outputs": [],
   "source": [
    "#기존의 school_df 데이터프레임 데이터에 정보 추가하기\n",
    "fdata['distance'] = distance_list"
   ]
  },
  {
   "cell_type": "code",
   "execution_count": 19,
   "metadata": {},
   "outputs": [
    {
     "data": {
      "text/html": [
       "<div>\n",
       "<style>\n",
       "    .dataframe thead tr:only-child th {\n",
       "        text-align: right;\n",
       "    }\n",
       "\n",
       "    .dataframe thead th {\n",
       "        text-align: left;\n",
       "    }\n",
       "\n",
       "    .dataframe tbody tr th {\n",
       "        vertical-align: top;\n",
       "    }\n",
       "</style>\n",
       "<table border=\"1\" class=\"dataframe\">\n",
       "  <thead>\n",
       "    <tr style=\"text-align: right;\">\n",
       "      <th></th>\n",
       "      <th>name</th>\n",
       "      <th>address</th>\n",
       "      <th>latitude</th>\n",
       "      <th>longitude</th>\n",
       "      <th>distance</th>\n",
       "    </tr>\n",
       "  </thead>\n",
       "  <tbody>\n",
       "    <tr>\n",
       "      <th>0</th>\n",
       "      <td>서울방일초등학교</td>\n",
       "      <td>서울특별시 서초구 방배동 167-4</td>\n",
       "      <td>37.485343</td>\n",
       "      <td>126.998202</td>\n",
       "      <td>25372.89</td>\n",
       "    </tr>\n",
       "    <tr>\n",
       "      <th>1</th>\n",
       "      <td>방배중학교</td>\n",
       "      <td>서울특별시 서초구 동광로 144</td>\n",
       "      <td>37.494479</td>\n",
       "      <td>126.998255</td>\n",
       "      <td>26219.72</td>\n",
       "    </tr>\n",
       "    <tr>\n",
       "      <th>2</th>\n",
       "      <td>서울고등학교</td>\n",
       "      <td>서울특별시 서초구 서초3동 1526-1번지</td>\n",
       "      <td>37.484270</td>\n",
       "      <td>127.005399</td>\n",
       "      <td>25639.51</td>\n",
       "    </tr>\n",
       "    <tr>\n",
       "      <th>3</th>\n",
       "      <td>원곡고등학교</td>\n",
       "      <td>경기도 안산시 단원구 원곡동 965-1번지</td>\n",
       "      <td>37.333300</td>\n",
       "      <td>126.798053</td>\n",
       "      <td>5277.85</td>\n",
       "    </tr>\n",
       "    <tr>\n",
       "      <th>4</th>\n",
       "      <td>상록고등학교</td>\n",
       "      <td>경기도 안산시 상록구 본오동 산127-1번지</td>\n",
       "      <td>37.299510</td>\n",
       "      <td>126.874971</td>\n",
       "      <td>3441.52</td>\n",
       "    </tr>\n",
       "    <tr>\n",
       "      <th>5</th>\n",
       "      <td>양지고등학교</td>\n",
       "      <td>경기도 안산시 단원구 고잔동 713번지</td>\n",
       "      <td>37.309535</td>\n",
       "      <td>126.822268</td>\n",
       "      <td>1879.41</td>\n",
       "    </tr>\n",
       "    <tr>\n",
       "      <th>6</th>\n",
       "      <td>안산고등학교</td>\n",
       "      <td>경기도 안산시 상록구 청룡4길 8</td>\n",
       "      <td>37.360044</td>\n",
       "      <td>126.873672</td>\n",
       "      <td>7773.66</td>\n",
       "    </tr>\n",
       "    <tr>\n",
       "      <th>7</th>\n",
       "      <td>초지고등학교</td>\n",
       "      <td>경기도 안산시 단원구 광덕1로 13</td>\n",
       "      <td>37.309868</td>\n",
       "      <td>126.810919</td>\n",
       "      <td>2667.32</td>\n",
       "    </tr>\n",
       "    <tr>\n",
       "      <th>8</th>\n",
       "      <td>불곡고등학교</td>\n",
       "      <td>경기도 성남시 분당구 금곡로 149번지</td>\n",
       "      <td>37.348080</td>\n",
       "      <td>127.119199</td>\n",
       "      <td>25651.42</td>\n",
       "    </tr>\n",
       "  </tbody>\n",
       "</table>\n",
       "</div>"
      ],
      "text/plain": [
       "       name                   address   latitude   longitude  distance\n",
       "0  서울방일초등학교       서울특별시 서초구 방배동 167-4  37.485343  126.998202  25372.89\n",
       "1     방배중학교         서울특별시 서초구 동광로 144  37.494479  126.998255  26219.72\n",
       "2    서울고등학교   서울특별시 서초구 서초3동 1526-1번지  37.484270  127.005399  25639.51\n",
       "3    원곡고등학교   경기도 안산시 단원구 원곡동 965-1번지  37.333300  126.798053   5277.85\n",
       "4    상록고등학교  경기도 안산시 상록구 본오동 산127-1번지  37.299510  126.874971   3441.52\n",
       "5    양지고등학교     경기도 안산시 단원구 고잔동 713번지  37.309535  126.822268   1879.41\n",
       "6    안산고등학교        경기도 안산시 상록구 청룡4길 8  37.360044  126.873672   7773.66\n",
       "7    초지고등학교       경기도 안산시 단원구 광덕1로 13  37.309868  126.810919   2667.32\n",
       "8    불곡고등학교     경기도 성남시 분당구 금곡로 149번지  37.348080  127.119199  25651.42"
      ]
     },
     "execution_count": 19,
     "metadata": {},
     "output_type": "execute_result"
    }
   ],
   "source": [
    "fdata"
   ]
  },
  {
   "cell_type": "code",
   "execution_count": 20,
   "metadata": {},
   "outputs": [
    {
     "data": {
      "text/html": [
       "<div>\n",
       "<style>\n",
       "    .dataframe thead tr:only-child th {\n",
       "        text-align: right;\n",
       "    }\n",
       "\n",
       "    .dataframe thead th {\n",
       "        text-align: left;\n",
       "    }\n",
       "\n",
       "    .dataframe tbody tr th {\n",
       "        vertical-align: top;\n",
       "    }\n",
       "</style>\n",
       "<table border=\"1\" class=\"dataframe\">\n",
       "  <thead>\n",
       "    <tr style=\"text-align: right;\">\n",
       "      <th></th>\n",
       "      <th>name</th>\n",
       "      <th>address</th>\n",
       "      <th>latitude</th>\n",
       "      <th>longitude</th>\n",
       "      <th>distance</th>\n",
       "    </tr>\n",
       "  </thead>\n",
       "  <tbody>\n",
       "    <tr>\n",
       "      <th>0</th>\n",
       "      <td>양지고등학교</td>\n",
       "      <td>경기도 안산시 단원구 고잔동 713번지</td>\n",
       "      <td>37.309535</td>\n",
       "      <td>126.822268</td>\n",
       "      <td>1879.41</td>\n",
       "    </tr>\n",
       "    <tr>\n",
       "      <th>1</th>\n",
       "      <td>초지고등학교</td>\n",
       "      <td>경기도 안산시 단원구 광덕1로 13</td>\n",
       "      <td>37.309868</td>\n",
       "      <td>126.810919</td>\n",
       "      <td>2667.32</td>\n",
       "    </tr>\n",
       "    <tr>\n",
       "      <th>2</th>\n",
       "      <td>상록고등학교</td>\n",
       "      <td>경기도 안산시 상록구 본오동 산127-1번지</td>\n",
       "      <td>37.299510</td>\n",
       "      <td>126.874971</td>\n",
       "      <td>3441.52</td>\n",
       "    </tr>\n",
       "    <tr>\n",
       "      <th>3</th>\n",
       "      <td>원곡고등학교</td>\n",
       "      <td>경기도 안산시 단원구 원곡동 965-1번지</td>\n",
       "      <td>37.333300</td>\n",
       "      <td>126.798053</td>\n",
       "      <td>5277.85</td>\n",
       "    </tr>\n",
       "    <tr>\n",
       "      <th>4</th>\n",
       "      <td>안산고등학교</td>\n",
       "      <td>경기도 안산시 상록구 청룡4길 8</td>\n",
       "      <td>37.360044</td>\n",
       "      <td>126.873672</td>\n",
       "      <td>7773.66</td>\n",
       "    </tr>\n",
       "    <tr>\n",
       "      <th>5</th>\n",
       "      <td>서울방일초등학교</td>\n",
       "      <td>서울특별시 서초구 방배동 167-4</td>\n",
       "      <td>37.485343</td>\n",
       "      <td>126.998202</td>\n",
       "      <td>25372.89</td>\n",
       "    </tr>\n",
       "    <tr>\n",
       "      <th>6</th>\n",
       "      <td>서울고등학교</td>\n",
       "      <td>서울특별시 서초구 서초3동 1526-1번지</td>\n",
       "      <td>37.484270</td>\n",
       "      <td>127.005399</td>\n",
       "      <td>25639.51</td>\n",
       "    </tr>\n",
       "    <tr>\n",
       "      <th>7</th>\n",
       "      <td>불곡고등학교</td>\n",
       "      <td>경기도 성남시 분당구 금곡로 149번지</td>\n",
       "      <td>37.348080</td>\n",
       "      <td>127.119199</td>\n",
       "      <td>25651.42</td>\n",
       "    </tr>\n",
       "    <tr>\n",
       "      <th>8</th>\n",
       "      <td>방배중학교</td>\n",
       "      <td>서울특별시 서초구 동광로 144</td>\n",
       "      <td>37.494479</td>\n",
       "      <td>126.998255</td>\n",
       "      <td>26219.72</td>\n",
       "    </tr>\n",
       "  </tbody>\n",
       "</table>\n",
       "</div>"
      ],
      "text/plain": [
       "       name                   address   latitude   longitude  distance\n",
       "0    양지고등학교     경기도 안산시 단원구 고잔동 713번지  37.309535  126.822268   1879.41\n",
       "1    초지고등학교       경기도 안산시 단원구 광덕1로 13  37.309868  126.810919   2667.32\n",
       "2    상록고등학교  경기도 안산시 상록구 본오동 산127-1번지  37.299510  126.874971   3441.52\n",
       "3    원곡고등학교   경기도 안산시 단원구 원곡동 965-1번지  37.333300  126.798053   5277.85\n",
       "4    안산고등학교        경기도 안산시 상록구 청룡4길 8  37.360044  126.873672   7773.66\n",
       "5  서울방일초등학교       서울특별시 서초구 방배동 167-4  37.485343  126.998202  25372.89\n",
       "6    서울고등학교   서울특별시 서초구 서초3동 1526-1번지  37.484270  127.005399  25639.51\n",
       "7    불곡고등학교     경기도 성남시 분당구 금곡로 149번지  37.348080  127.119199  25651.42\n",
       "8     방배중학교         서울특별시 서초구 동광로 144  37.494479  126.998255  26219.72"
      ]
     },
     "execution_count": 20,
     "metadata": {},
     "output_type": "execute_result"
    }
   ],
   "source": [
    "#거리 순으로 데이터 정렬하기\n",
    "fdata = fdata.sort_values('distance')\n",
    "fdata.reset_index(drop=True, inplace=True)\n",
    "fdata"
   ]
  },
  {
   "cell_type": "code",
   "execution_count": 21,
   "metadata": {
    "collapsed": true
   },
   "outputs": [],
   "source": [
    "#가장 가까운 곳 찾기\n",
    "nearest_latlng = fdata.loc[0][['latitude', 'longitude']].values"
   ]
  },
  {
   "cell_type": "markdown",
   "metadata": {},
   "source": [
    "### (4) 지도로 표시하기"
   ]
  },
  {
   "cell_type": "code",
   "execution_count": 22,
   "metadata": {},
   "outputs": [
    {
     "data": {
      "text/html": [
       "<div style=\"width:100%;\"><div style=\"position:relative;width:100%;height:0;padding-bottom:60%;\"><iframe src=\"data:text/html;charset=utf-8;base64,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\" style=\"position:absolute;width:100%;height:100%;left:0;top:0;border:none !important;\" allowfullscreen webkitallowfullscreen mozallowfullscreen></iframe></div></div>"
      ],
      "text/plain": [
       "<folium.folium.Map at 0x258250ba438>"
      ]
     },
     "execution_count": 22,
     "metadata": {},
     "output_type": "execute_result"
    }
   ],
   "source": [
    "# 지도 \n",
    "hanyang_univ_map2 = folium.Map(location=[37.300853, 126.842930], zoom_start=13)\n",
    "# 가까운 학교표시\n",
    "folium.CircleMarker(nearest_latlng, popup=fdata.loc[0]['name'], color='red', fill_color='red', radius=5).add_to(hanyang_univ_map2)\n",
    "# 내 위치 표시\n",
    "folium.CircleMarker(my_location, popup=my_location_name,color='blue', fill_color='blue', radius=5).add_to(hanyang_univ_map2)\n",
    "hanyang_univ_map2"
   ]
  },
  {
   "cell_type": "code",
   "execution_count": null,
   "metadata": {
    "collapsed": true
   },
   "outputs": [],
   "source": []
  }
 ],
 "metadata": {
  "anaconda-cloud": {},
  "kernelspec": {
   "display_name": "Python 3",
   "language": "python",
   "name": "python3"
  },
  "language_info": {
   "codemirror_mode": {
    "name": "ipython",
    "version": 3
   },
   "file_extension": ".py",
   "mimetype": "text/x-python",
   "name": "python",
   "nbconvert_exporter": "python",
   "pygments_lexer": "ipython3",
   "version": "3.6.1"
  }
 },
 "nbformat": 4,
 "nbformat_minor": 2
}
